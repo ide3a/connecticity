{
 "cells": [
  {
   "cell_type": "markdown",
   "metadata": {
    "pycharm": {
     "name": "#%% md\n"
    }
   },
   "source": [
    "pySTREaM - STochastic Residential water End-use Model in Python"
   ]
  },
  {
   "cell_type": "code",
   "execution_count": 1,
   "metadata": {},
   "outputs": [],
   "source": [
    "# imports\n",
    "from demandsim.demandsim.generator import DemandGenerator, Appliances, Trajectories, Fixtures\n",
    "\n",
    "# Example for generating a demand trajectory given by the househould\n",
    "# size and the appliance configuration as parameter.\n",
    "\n",
    "# From 1 to 5, it indicates the number of people living in the house. 6 means '>5'.\n",
    "hhsize = 2  # This parameter should be in the interval (1,6).\n",
    "\n",
    "# Water consuming fixtures selection\n",
    "appliances = frozenset([\n",
    "    Fixtures.StToilet,\n",
    "    Fixtures.StShower,\n",
    "    Fixtures.StFaucet,\n",
    "    Fixtures.StClothesWasher,\n",
    "    Fixtures.StDishwasher,\n",
    "    Fixtures.StBathtub\n",
    "])\n",
    "\n",
    "# Time horizon length setting\n",
    "horizon = 31*2  # It is measured in [days]\n",
    "\n",
    "# Time sampling resolution\n",
    "# It is measured in [10 seconds] units. The maximum resolution allowed is 10 seconds (ts = 1).\n",
    "ts = 1\n",
    "\n",
    "gen = DemandGenerator(horizon, ts)\n",
    "trajectories = gen.generate_trajectories(appliances, hhsize)\n"
   ]
  },
  {
   "cell_type": "code",
   "execution_count": 2,
   "metadata": {
    "pycharm": {
     "name": "#%% save results and visualization\n"
    }
   },
   "outputs": [
    {
     "name": "stdout",
     "output_type": "stream",
     "text": [
      "File saved\n"
     ]
    }
   ],
   "source": [
    "from paths import *\n",
    "import pandas as pd\n",
    "results_py0 = pd.DataFrame(data=trajectories)\n",
    "results_py = pd.DataFrame()\n",
    "for ii, col in enumerate(results_py.columns):\n",
    "    if col != 'TOTAL':\n",
    "        results_py[col] = results_py0[col]\n",
    "    else:\n",
    "        results_py[col] = results_py0['Total']\n",
    "\n",
    "results_py.to_csv(os.path.join(os.path.dirname(ROOT_DIR),  *['results', 'pySTREaM_ts_2M_2P.csv']))\n",
    "print('File saved')"
   ]
  },
  {
   "cell_type": "code",
   "execution_count": 3,
   "metadata": {},
   "outputs": [
    {
     "data": {
      "image/png": "[encoded data removed]",
      "text/plain": [
       "<Figure size 432x288 with 1 Axes>"
      ]
     },
     "metadata": {
      "needs_background": "light"
     },
     "output_type": "display_data"
    }
   ],
   "source": [
    "#plot\n",
    "import matplotlib.pyplot as plt  # type: ignore\n",
    "plt.plot(trajectories['Total'])\n",
    "plt.show()"
   ]
  },
  {
   "cell_type": "code",
   "execution_count": null,
   "metadata": {},
   "outputs": [],
   "source": []
  }
 ],
 "metadata": {
  "kernelspec": {
   "display_name": "Python 3 (ipykernel)",
   "language": "python",
   "name": "python3"
  },
  "language_info": {
   "codemirror_mode": {
    "name": "ipython",
    "version": 3
   },
   "file_extension": ".py",
   "mimetype": "text/x-python",
   "name": "python",
   "nbconvert_exporter": "python",
   "pygments_lexer": "ipython3",
   "version": "3.8.10"
  }
 },
 "nbformat": 4,
 "nbformat_minor": 4
}