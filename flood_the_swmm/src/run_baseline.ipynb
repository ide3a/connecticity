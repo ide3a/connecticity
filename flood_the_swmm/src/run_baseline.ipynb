{
 "cells": [
  {
   "cell_type": "markdown",
   "id": "25c1696c",
   "metadata": {},
   "source": [
    "# Test if your setup works\n",
    "\n",
    "Run the cell and check the output, if the simulation is executed. Some warnings are normal, you can ignore those."
   ]
  },
  {
   "cell_type": "code",
   "execution_count": null,
   "id": "01064ac5",
   "metadata": {},
   "outputs": [],
   "source": [
    "import swmmio\n",
    "import sys\n",
    "sys.path.append(\"../\")\n",
    "from paths import *\n",
    "\n",
    "# Adapt the path in the following line as explained above\n",
    "swmm_path = r'/swmm51015_engine/build/runswmm5'\n",
    "\n",
    "inp_path = os.path.join(DATA_DIR, *['baseline', 'Bellinge_2015_mod.inp'])\n",
    "\n",
    "!python3 utils/run_model.py --inp_path '{inp_path}' --swmm_path '{swmm_path}'"
   ]
  }
 ],
 "metadata": {
  "kernelspec": {
   "display_name": "Python 3 (ipykernel)",
   "language": "python",
   "name": "python3"
  },
  "language_info": {
   "codemirror_mode": {
    "name": "ipython",
    "version": 3
   },
   "file_extension": ".py",
   "mimetype": "text/x-python",
   "name": "python",
   "nbconvert_exporter": "python",
   "pygments_lexer": "ipython3",
   "version": "3.8.10"
  }
 },
 "nbformat": 4,
 "nbformat_minor": 5
}
