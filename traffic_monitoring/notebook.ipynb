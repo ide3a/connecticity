{
 "cells": [
  {
   "cell_type": "code",
   "execution_count": 2,
   "id": "3c45152b-09c5-480d-a466-3cda5f4b81c0",
   "metadata": {},
   "outputs": [],
   "source": [
    "from zmessaging import ZMessaging\n",
    "server = ZMessaging()"
   ]
  },
  {
   "cell_type": "code",
   "execution_count": null,
   "id": "35b75bc8-8c8d-456a-9653-d039e60a2ad4",
   "metadata": {},
   "outputs": [],
   "source": []
  },
  {
   "cell_type": "code",
   "execution_count": null,
   "id": "54541df8-22cd-4804-94f6-61e58dfb3ddf",
   "metadata": {},
   "outputs": [],
   "source": []
  }
 ],
 "metadata": {
  "kernelspec": {
   "display_name": "Python 3 (ipykernel)",
   "language": "python",
   "name": "python3"
  },
  "language_info": {
   "codemirror_mode": {
    "name": "ipython",
    "version": 3
   },
   "file_extension": ".py",
   "mimetype": "text/x-python",
   "name": "python",
   "nbconvert_exporter": "python",
   "pygments_lexer": "ipython3",
   "version": "3.8.10"
  }
 },
 "nbformat": 4,
 "nbformat_minor": 5
}
